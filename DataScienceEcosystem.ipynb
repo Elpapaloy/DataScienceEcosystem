{
 "cells": [
  {
   "cell_type": "markdown",
   "id": "fa2e283a-7687-46f3-9d43-6b6f7370c436",
   "metadata": {},
   "source": [
    "# Data Science Tool Ecosystem"
   ]
  },
  {
   "cell_type": "markdown",
   "id": "2462e8f8-9b9a-4526-b443-474a543aab0e",
   "metadata": {},
   "source": [
    "In this notebook, data science ecosystem and tools are summarized in order to recapitulate the course content"
   ]
  },
  {
   "cell_type": "markdown",
   "id": "ec461e9b-f4fb-4da3-9b57-24eb6b9bd1b8",
   "metadata": {},
   "source": [
    "**Objectives:**\n",
    "* List the most popular lenguages used for data science\n",
    "* Serve as a canvas for practicing coding on jupyter notebooks\n",
    "* Display examples of the many resources are available on the jupyter notebooks"
   ]
  },
  {
   "cell_type": "markdown",
   "id": "d51e2e52-7b1d-4606-aeaa-48ea88a76932",
   "metadata": {},
   "source": [
    "Some of the popular lenguages used for data scientists are:\n",
    "1. Python\n",
    "2. R\n",
    "3. SQL\n",
    "4. MATLAB"
   ]
  },
  {
   "cell_type": "markdown",
   "id": "90a49bd8-3446-4fcc-8da7-20d5e677885a",
   "metadata": {},
   "source": [
    "Some of the common used libraries used by data scientists are:\n",
    "1. Keras\n",
    "2. ScikitLearn\n",
    "3. TensorFlow\n",
    "4. Pandas\n"
   ]
  },
  {
   "cell_type": "markdown",
   "id": "3bc4b56c-a142-4b29-8320-d078c658e704",
   "metadata": {},
   "source": [
    "|Data Science Tools|\n",
    "|---|\n",
    "|Spyder|\n",
    "|Jupyter Notebook|\n",
    "|Anaconda|"
   ]
  },
  {
   "cell_type": "markdown",
   "id": "d15b5dcb-cdaa-40b6-8daa-4a86a164dff0",
   "metadata": {},
   "source": [
    "### Bellow are a few examples of evaluating arithmetic expressions in python"
   ]
  },
  {
   "cell_type": "code",
   "execution_count": 4,
   "id": "87988d32-c393-44cf-bbc4-57ed2a165cf2",
   "metadata": {},
   "outputs": [
    {
     "data": {
      "text/plain": [
       "17"
      ]
     },
     "execution_count": 4,
     "metadata": {},
     "output_type": "execute_result"
    }
   ],
   "source": [
    "(3*4)+5\n",
    "\n"
   ]
  },
  {
   "cell_type": "markdown",
   "id": "dbd8fd20-1257-45df-868b-188f82d9e4b4",
   "metadata": {},
   "source": [
    "This is a simply arithmetic exression that multiplies and then add numbers."
   ]
  },
  {
   "cell_type": "markdown",
   "id": "a0ac7a40-4b78-4643-b3d1-17c2ba17c596",
   "metadata": {},
   "source": [
    "This will convert 200 minutes to hours by dividinv by 60."
   ]
  },
  {
   "cell_type": "code",
   "execution_count": 7,
   "id": "cba6c82a-f8c2-4063-be27-c19145c161fc",
   "metadata": {},
   "outputs": [
    {
     "name": "stdout",
     "output_type": "stream",
     "text": [
      "200 minutos son 3.3333333333333335 horas\n"
     ]
    }
   ],
   "source": [
    "minutes = 200\n",
    "hours = minutes/60\n",
    "print(str(minutes)+' minutes are '+str(hours)+' hours')"
   ]
  },
  {
   "cell_type": "markdown",
   "id": "e2410567-274f-49f4-85a0-74d61dc59d80",
   "metadata": {},
   "source": [
    "## Author\n",
    "Marco Gutiérrez"
   ]
  },
  {
   "cell_type": "markdown",
   "id": "54da036f-b5c0-484a-a5a7-d131379bacd5",
   "metadata": {},
   "source": []
  }
 ],
 "metadata": {
  "kernelspec": {
   "display_name": "Python 3 (ipykernel)",
   "language": "python",
   "name": "python3"
  },
  "language_info": {
   "codemirror_mode": {
    "name": "ipython",
    "version": 3
   },
   "file_extension": ".py",
   "mimetype": "text/x-python",
   "name": "python",
   "nbconvert_exporter": "python",
   "pygments_lexer": "ipython3",
   "version": "3.12.4"
  }
 },
 "nbformat": 4,
 "nbformat_minor": 5
}
